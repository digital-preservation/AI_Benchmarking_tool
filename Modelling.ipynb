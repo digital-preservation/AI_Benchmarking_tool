{
 "cells": [
  {
   "cell_type": "markdown",
   "metadata": {},
   "source": [
    "# Modelling\n",
    "\n",
    " * [Dev variables](#Dev-variables)\n",
    " * [Load data](#Load-data)\n",
    " * [Prepare data](#Prepare-data)\n",
    " * [Train model](#Train-model)\n",
    "   * [Dummy classifier](#Dummy-classifier)\n"
   ]
  },
  {
   "cell_type": "markdown",
   "metadata": {},
   "source": [
    "## Dev variables"
   ]
  },
  {
   "cell_type": "code",
   "execution_count": 1,
   "metadata": {},
   "outputs": [],
   "source": [
    "# data_root_folder='H:/AI_for_Selection/'\n",
    "# data_root_folder='/media/AIDrive/'\n",
    "data_root_folder='/home/jeremie/Documents/drive_TNA/ML/AI for selection/prototype/'\n"
   ]
  },
  {
   "cell_type": "markdown",
   "metadata": {},
   "source": [
    "## Load data"
   ]
  },
  {
   "cell_type": "code",
   "execution_count": 2,
   "metadata": {},
   "outputs": [],
   "source": [
    "import os\n",
    "import sys\n",
    "import numpy as np\n",
    "import pandas as pd\n",
    "import gensim\n",
    "import spacy\n",
    "import nltk\n",
    "\n",
    "import logging\n",
    "from gensim.summarization import summarize\n",
    "\n",
    "import seaborn as sns\n",
    "import matplotlib.pyplot as plt\n",
    "from sklearn.model_selection import train_test_split\n",
    "\n",
    "pd.set_option('display.max_colwidth', -1)"
   ]
  },
  {
   "cell_type": "code",
   "execution_count": 3,
   "metadata": {},
   "outputs": [],
   "source": [
    "\n",
    "folder_path_a = data_root_folder + 'a/'\n",
    "folder_path_websites = data_root_folder + '/Websites/'\n",
    "logging.basicConfig(format='%(asctime)s : %(levelname)s : %(message)s', level=logging.INFO) "
   ]
  },
  {
   "cell_type": "code",
   "execution_count": 4,
   "metadata": {},
   "outputs": [],
   "source": [
    "#Metadata file is the supplied by MA to us\n",
    "metadata_file =  data_root_folder + 'objective_files_with_acronyms LATEST.xlsx'\n",
    "df = pd.read_excel(open(metadata_file,'rb'), sheet_name='objective_files_with_acronyms', nrows=118677)"
   ]
  },
  {
   "cell_type": "code",
   "execution_count": 5,
   "metadata": {},
   "outputs": [
    {
     "data": {
      "text/plain": [
       "118677"
      ]
     },
     "execution_count": 5,
     "metadata": {},
     "output_type": "execute_result"
    }
   ],
   "source": [
    "len(df)"
   ]
  },
  {
   "cell_type": "markdown",
   "metadata": {},
   "source": [
    "## Prepare data"
   ]
  },
  {
   "cell_type": "code",
   "execution_count": 6,
   "metadata": {},
   "outputs": [
    {
     "data": {
      "text/plain": [
       "Index(['Unnamed: 0', 'documentid', 'objectivefileid', 'fileextension',\n",
       "       'versionnumber', 'disposal_schedule', 'repository', 'datelastmodified',\n",
       "       'parent11', 'parent10', 'parent9', 'parent8', 'parent7', 'parent6',\n",
       "       'parent5', 'parent4', 'parent3', 'parent2', 'parent1', 'objective3',\n",
       "       'objective2', 'objective1', 'originalname', 'documentname',\n",
       "       'copyflatlines',\n",
       "       'To the left there is the full data from the EDRMS.\\nTo the right is the data with the acronyms',\n",
       "       'trim_11', 'trim_10', 'trim_9', 'trim_8', 'trim_7', 'trim_6', 'trim_5',\n",
       "       'trim_4', 'trim_3', 'trim_2', 'trim_1'],\n",
       "      dtype='object')"
      ]
     },
     "execution_count": 6,
     "metadata": {},
     "output_type": "execute_result"
    }
   ],
   "source": [
    "df.columns"
   ]
  },
  {
   "cell_type": "code",
   "execution_count": 7,
   "metadata": {},
   "outputs": [],
   "source": [
    "df = df.drop(['Unnamed: 0','copyflatlines',\n",
    "       'To the left there is the full data from the EDRMS.\\nTo the right is the data with the acronyms'], axis = 1)"
   ]
  },
  {
   "cell_type": "code",
   "execution_count": 8,
   "metadata": {
    "scrolled": true
   },
   "outputs": [
    {
     "data": {
      "text/html": [
       "<div>\n",
       "<style scoped>\n",
       "    .dataframe tbody tr th:only-of-type {\n",
       "        vertical-align: middle;\n",
       "    }\n",
       "\n",
       "    .dataframe tbody tr th {\n",
       "        vertical-align: top;\n",
       "    }\n",
       "\n",
       "    .dataframe thead th {\n",
       "        text-align: right;\n",
       "    }\n",
       "</style>\n",
       "<table border=\"1\" class=\"dataframe\">\n",
       "  <thead>\n",
       "    <tr style=\"text-align: right;\">\n",
       "      <th></th>\n",
       "      <th>documentid</th>\n",
       "      <th>objectivefileid</th>\n",
       "      <th>fileextension</th>\n",
       "      <th>versionnumber</th>\n",
       "      <th>disposal_schedule</th>\n",
       "      <th>repository</th>\n",
       "      <th>datelastmodified</th>\n",
       "      <th>parent11</th>\n",
       "      <th>parent10</th>\n",
       "      <th>parent9</th>\n",
       "      <th>...</th>\n",
       "      <th>trim_10</th>\n",
       "      <th>trim_9</th>\n",
       "      <th>trim_8</th>\n",
       "      <th>trim_7</th>\n",
       "      <th>trim_6</th>\n",
       "      <th>trim_5</th>\n",
       "      <th>trim_4</th>\n",
       "      <th>trim_3</th>\n",
       "      <th>trim_2</th>\n",
       "      <th>trim_1</th>\n",
       "    </tr>\n",
       "  </thead>\n",
       "  <tbody>\n",
       "    <tr>\n",
       "      <th>0</th>\n",
       "      <td>A3109716</td>\n",
       "      <td>qA35736</td>\n",
       "      <td>xls</td>\n",
       "      <td>2</td>\n",
       "      <td>24 Projects - Full Projects (Close file when Project ends)</td>\n",
       "      <td>Strategic Projects</td>\n",
       "      <td>00:42:31</td>\n",
       "      <td>Procurement, Project Delivery and Contract Management</td>\n",
       "      <td>Project Delivery</td>\n",
       "      <td>Projects - Closed</td>\n",
       "      <td>...</td>\n",
       "      <td>PD</td>\n",
       "      <td>PC_1</td>\n",
       "      <td>20YRaCS</td>\n",
       "      <td>GE_1</td>\n",
       "      <td>2012RTR</td>\n",
       "      <td>RTRS2012DS</td>\n",
       "      <td>no name</td>\n",
       "      <td>no name</td>\n",
       "      <td>no name</td>\n",
       "      <td>no name</td>\n",
       "    </tr>\n",
       "    <tr>\n",
       "      <th>1</th>\n",
       "      <td>A3133123</td>\n",
       "      <td>qA35736</td>\n",
       "      <td>xls</td>\n",
       "      <td>1</td>\n",
       "      <td>24 Projects - Full Projects (Close file when Project ends)</td>\n",
       "      <td>Strategic Projects</td>\n",
       "      <td>00:55:08</td>\n",
       "      <td>Procurement, Project Delivery and Contract Management</td>\n",
       "      <td>Project Delivery</td>\n",
       "      <td>Projects - Closed</td>\n",
       "      <td>...</td>\n",
       "      <td>PD</td>\n",
       "      <td>PC_1</td>\n",
       "      <td>20YRaCS</td>\n",
       "      <td>GE_1</td>\n",
       "      <td>2012RTR</td>\n",
       "      <td>RTRS2012DS</td>\n",
       "      <td>no name</td>\n",
       "      <td>no name</td>\n",
       "      <td>no name</td>\n",
       "      <td>no name</td>\n",
       "    </tr>\n",
       "    <tr>\n",
       "      <th>2</th>\n",
       "      <td>A3097046</td>\n",
       "      <td>qA35736</td>\n",
       "      <td>xls</td>\n",
       "      <td>4</td>\n",
       "      <td>24 Projects - Full Projects (Close file when Project ends)</td>\n",
       "      <td>Strategic Projects</td>\n",
       "      <td>00:54:09</td>\n",
       "      <td>Procurement, Project Delivery and Contract Management</td>\n",
       "      <td>Project Delivery</td>\n",
       "      <td>Projects - Closed</td>\n",
       "      <td>...</td>\n",
       "      <td>PD</td>\n",
       "      <td>PC_1</td>\n",
       "      <td>20YRaCS</td>\n",
       "      <td>GE_1</td>\n",
       "      <td>2012RTR</td>\n",
       "      <td>RTRS2012DS</td>\n",
       "      <td>no name</td>\n",
       "      <td>no name</td>\n",
       "      <td>no name</td>\n",
       "      <td>no name</td>\n",
       "    </tr>\n",
       "    <tr>\n",
       "      <th>3</th>\n",
       "      <td>A3113792</td>\n",
       "      <td>qA35736</td>\n",
       "      <td>xls</td>\n",
       "      <td>2</td>\n",
       "      <td>24 Projects - Full Projects (Close file when Project ends)</td>\n",
       "      <td>Strategic Projects</td>\n",
       "      <td>00:52:54</td>\n",
       "      <td>Procurement, Project Delivery and Contract Management</td>\n",
       "      <td>Project Delivery</td>\n",
       "      <td>Projects - Closed</td>\n",
       "      <td>...</td>\n",
       "      <td>PD</td>\n",
       "      <td>PC_1</td>\n",
       "      <td>20YRaCS</td>\n",
       "      <td>GE_1</td>\n",
       "      <td>2012RTR</td>\n",
       "      <td>RTRS2012DS</td>\n",
       "      <td>no name</td>\n",
       "      <td>no name</td>\n",
       "      <td>no name</td>\n",
       "      <td>no name</td>\n",
       "    </tr>\n",
       "    <tr>\n",
       "      <th>4</th>\n",
       "      <td>A3115138</td>\n",
       "      <td>qA35736</td>\n",
       "      <td>xls</td>\n",
       "      <td>2</td>\n",
       "      <td>24 Projects - Full Projects (Close file when Project ends)</td>\n",
       "      <td>Strategic Projects</td>\n",
       "      <td>00:40:05</td>\n",
       "      <td>Procurement, Project Delivery and Contract Management</td>\n",
       "      <td>Project Delivery</td>\n",
       "      <td>Projects - Closed</td>\n",
       "      <td>...</td>\n",
       "      <td>PD</td>\n",
       "      <td>PC_1</td>\n",
       "      <td>20YRaCS</td>\n",
       "      <td>GE_1</td>\n",
       "      <td>2012RTR</td>\n",
       "      <td>RTRS2012DS</td>\n",
       "      <td>no name</td>\n",
       "      <td>no name</td>\n",
       "      <td>no name</td>\n",
       "      <td>no name</td>\n",
       "    </tr>\n",
       "  </tbody>\n",
       "</table>\n",
       "<p>5 rows × 34 columns</p>\n",
       "</div>"
      ],
      "text/plain": [
       "  documentid objectivefileid fileextension  versionnumber  \\\n",
       "0  A3109716   qA35736         xls           2               \n",
       "1  A3133123   qA35736         xls           1               \n",
       "2  A3097046   qA35736         xls           4               \n",
       "3  A3113792   qA35736         xls           2               \n",
       "4  A3115138   qA35736         xls           2               \n",
       "\n",
       "                                            disposal_schedule  \\\n",
       "0  24 Projects - Full Projects (Close file when Project ends)   \n",
       "1  24 Projects - Full Projects (Close file when Project ends)   \n",
       "2  24 Projects - Full Projects (Close file when Project ends)   \n",
       "3  24 Projects - Full Projects (Close file when Project ends)   \n",
       "4  24 Projects - Full Projects (Close file when Project ends)   \n",
       "\n",
       "           repository datelastmodified  \\\n",
       "0  Strategic Projects  00:42:31          \n",
       "1  Strategic Projects  00:55:08          \n",
       "2  Strategic Projects  00:54:09          \n",
       "3  Strategic Projects  00:52:54          \n",
       "4  Strategic Projects  00:40:05          \n",
       "\n",
       "                                                parent11          parent10  \\\n",
       "0  Procurement, Project Delivery and Contract Management  Project Delivery   \n",
       "1  Procurement, Project Delivery and Contract Management  Project Delivery   \n",
       "2  Procurement, Project Delivery and Contract Management  Project Delivery   \n",
       "3  Procurement, Project Delivery and Contract Management  Project Delivery   \n",
       "4  Procurement, Project Delivery and Contract Management  Project Delivery   \n",
       "\n",
       "             parent9  ... trim_10 trim_9   trim_8 trim_7   trim_6      trim_5  \\\n",
       "0  Projects - Closed  ...  PD      PC_1   20YRaCS  GE_1   2012RTR  RTRS2012DS   \n",
       "1  Projects - Closed  ...  PD      PC_1   20YRaCS  GE_1   2012RTR  RTRS2012DS   \n",
       "2  Projects - Closed  ...  PD      PC_1   20YRaCS  GE_1   2012RTR  RTRS2012DS   \n",
       "3  Projects - Closed  ...  PD      PC_1   20YRaCS  GE_1   2012RTR  RTRS2012DS   \n",
       "4  Projects - Closed  ...  PD      PC_1   20YRaCS  GE_1   2012RTR  RTRS2012DS   \n",
       "\n",
       "    trim_4   trim_3   trim_2   trim_1  \n",
       "0  no name  no name  no name  no name  \n",
       "1  no name  no name  no name  no name  \n",
       "2  no name  no name  no name  no name  \n",
       "3  no name  no name  no name  no name  \n",
       "4  no name  no name  no name  no name  \n",
       "\n",
       "[5 rows x 34 columns]"
      ]
     },
     "execution_count": 8,
     "metadata": {},
     "output_type": "execute_result"
    }
   ],
   "source": [
    "df.head(5)"
   ]
  },
  {
   "cell_type": "code",
   "execution_count": 9,
   "metadata": {},
   "outputs": [
    {
     "name": "stdout",
     "output_type": "stream",
     "text": [
      "check there are as many documents as unique documentid: True, \n",
      " unique document ids: 118677\n"
     ]
    }
   ],
   "source": [
    "print(\"check there are as many documents as unique documentid: %r, \\n unique document ids: %i\" % ((len(df.documentid.unique()) == len(df)),len(df.documentid.unique())))"
   ]
  },
  {
   "cell_type": "code",
   "execution_count": 10,
   "metadata": {},
   "outputs": [],
   "source": [
    "df['ret_schedule']= df['disposal_schedule'].apply(lambda x: x.split()[0] )"
   ]
  },
  {
   "cell_type": "code",
   "execution_count": 11,
   "metadata": {},
   "outputs": [],
   "source": [
    "df['selected'] =  df['ret_schedule'].apply(lambda x: True if x in(('04', '06','15b','17','21','33','34','35','36')) else False)"
   ]
  },
  {
   "cell_type": "code",
   "execution_count": 12,
   "metadata": {},
   "outputs": [],
   "source": [
    "df['fileextension_cleaned']=df.fileextension.str.lower()"
   ]
  },
  {
   "cell_type": "code",
   "execution_count": 13,
   "metadata": {},
   "outputs": [],
   "source": [
    "most_frequent_fileextensions=(df['fileextension_cleaned'].value_counts()>400)\n",
    "most_frequent_fileextensions=most_frequent_fileextensions[most_frequent_fileextensions].index.values"
   ]
  },
  {
   "cell_type": "markdown",
   "metadata": {},
   "source": [
    "## Train model"
   ]
  },
  {
   "cell_type": "code",
   "execution_count": 14,
   "metadata": {},
   "outputs": [],
   "source": [
    "from sklearn.model_selection import train_test_split"
   ]
  },
  {
   "cell_type": "code",
   "execution_count": 15,
   "metadata": {},
   "outputs": [],
   "source": [
    "X_train, X_test, y_train, y_test = train_test_split(df[['parent11','parent10','fileextension_cleaned']],df[['ret_schedule']],random_state=0,test_size=0.2,stratify=df[['ret_schedule']])"
   ]
  },
  {
   "cell_type": "markdown",
   "metadata": {},
   "source": [
    "### Dummy classifier"
   ]
  },
  {
   "cell_type": "code",
   "execution_count": 16,
   "metadata": {},
   "outputs": [],
   "source": [
    "from sklearn.dummy import DummyClassifier"
   ]
  },
  {
   "cell_type": "code",
   "execution_count": 47,
   "metadata": {},
   "outputs": [
    {
     "name": "stdout",
     "output_type": "stream",
     "text": [
      "Accuracy on train set 0.2215691850728347\n",
      "Accuracy on test set 0.22156218402426694\n"
     ]
    }
   ],
   "source": [
    "clf = DummyClassifier(strategy=\"most_frequent\")\n",
    "clf.fit(X_train,y_train)\n",
    "print(\"Accuracy on train set\", sklearn.metrics.accuracy_score(y_train, clf.predict(X_train)))\n",
    "print(\"Accuracy on test set\", sklearn.metrics.accuracy_score(y_test, clf.predict(X_test)))"
   ]
  },
  {
   "cell_type": "markdown",
   "metadata": {},
   "source": [
    "### Decision Tree classifier"
   ]
  },
  {
   "cell_type": "markdown",
   "metadata": {},
   "source": [
    "# !!! NEED TO encode all labels !!!"
   ]
  },
  {
   "cell_type": "code",
   "execution_count": 42,
   "metadata": {},
   "outputs": [],
   "source": [
    "from sklearn.tree import DecisionTreeClassifier\n",
    "from sklearn.preprocessing import OneHotEncoder\n",
    "from sklearn.preprocessing import LabelEncoder"
   ]
  },
  {
   "cell_type": "raw",
   "metadata": {},
   "source": [
    "enc = LabelEncoder();\n",
    "X_train_label_encoded=X_train.apply(enc.fit_transform)"
   ]
  },
  {
   "cell_type": "raw",
   "metadata": {},
   "source": [
    "enc = OneHotEncoder(handle_unknown='ignore')\n",
    "enc.fit(y_train)\n",
    "y_train_onehot=enc.transform(y_train)\n",
    "y_test_onehot=enc.transform(y_test)"
   ]
  },
  {
   "cell_type": "raw",
   "metadata": {},
   "source": [
    "clf = DecisionTreeClassifier()\n",
    "clf.fit(X_train,y_train)\n",
    "print(\"score on train set: %f\" % clf.score(X_train,y_train))\n",
    "# print(\"Accuracy score\", sklearn.metrics.accuracy_score(y_train, clf.predict(X_train)))\n",
    "print(\"score on test set: %f\" % clf.score(X_test,y_test))\n",
    "# print(\"Accuracy score\", sklearn.metrics.accuracy_score(y_test, clf.predict(X_test)))"
   ]
  },
  {
   "cell_type": "markdown",
   "metadata": {},
   "source": [
    "### Auto-sklearn classifier"
   ]
  },
  {
   "cell_type": "code",
   "execution_count": 27,
   "metadata": {},
   "outputs": [],
   "source": [
    "# see https://automl.github.io/auto-sklearn/master/installation.html if error on pip install\n",
    "# %pip install auto-sklearn"
   ]
  },
  {
   "cell_type": "raw",
   "metadata": {},
   "source": [
    "import autosklearn.classification\n",
    "import sklearn.model_selection\n",
    "import sklearn.datasets\n",
    "import sklearn.metrics"
   ]
  },
  {
   "cell_type": "raw",
   "metadata": {},
   "source": [
    "\n",
    "X, y = sklearn.datasets.load_digits(return_X_y=True)\n",
    "automl = autosklearn.classification.AutoSklearnClassifier()\n",
    "automl.fit(X_train, y_train, feat_type=\"Categorical\")\n",
    "y_hat = automl.predict(X_test)\n",
    "print(\"Accuracy score\", sklearn.metrics.accuracy_score(y_test, y_hat))\n"
   ]
  },
  {
   "cell_type": "code",
   "execution_count": null,
   "metadata": {},
   "outputs": [],
   "source": []
  }
 ],
 "metadata": {
  "kernelspec": {
   "display_name": "Python 3",
   "language": "python",
   "name": "python3"
  },
  "language_info": {
   "codemirror_mode": {
    "name": "ipython",
    "version": 3
   },
   "file_extension": ".py",
   "mimetype": "text/x-python",
   "name": "python",
   "nbconvert_exporter": "python",
   "pygments_lexer": "ipython3",
   "version": "3.7.3"
  }
 },
 "nbformat": 4,
 "nbformat_minor": 4
}
