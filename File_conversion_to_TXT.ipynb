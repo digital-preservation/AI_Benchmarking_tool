{
 "cells": [
  {
   "cell_type": "markdown",
   "metadata": {},
   "source": [
    "This notebook is only to convert all files to txt format"
   ]
  },
  {
   "cell_type": "code",
   "execution_count": 1,
   "metadata": {},
   "outputs": [],
   "source": [
    "## PLEASE NOTE TIKA WORKS LIKE MAGIC WITH LINUX!! BUT NOT SO WITH WINDOWS!! \n",
    "## SO, PLEASE RUN THE FOLLOWING BIT ON YOUR LINUX MACHINES\n",
    "import os\n",
    "from tika import parser\n",
    "import sys\n",
    "\n"
   ]
  },
  {
   "cell_type": "code",
   "execution_count": 2,
   "metadata": {},
   "outputs": [],
   "source": [
    "file_origin_a = '/media/santhilata/Santhi_backup/Projects/AI_for_Selection/a'\n",
    "file_origin_websites = '/media/santhilata/Santhi_backup/Projects/AI_for_Selection/Websites/'\n",
    "file_dest_a = '/home/santhilata/Documents/a_txt/'\n",
    "file_dest_websites = '/home/santhilata/Documents/websites_txt/'"
   ]
  },
  {
   "cell_type": "code",
   "execution_count": 3,
   "metadata": {},
   "outputs": [],
   "source": [
    "accepted_file_list = ['pdf','rtf','txt','msg','doc','docx','xls', 'xlsx','mbx']"
   ]
  },
  {
   "cell_type": "code",
   "execution_count": 4,
   "metadata": {},
   "outputs": [],
   "source": [
    "#the following function converts any document file to txt. Also collects metadata of the file\n",
    "def convert_any_format_to_txt(source_folder_path, dest_path, to_replace):\n",
    "    count = 0\n",
    "    for subdir, dirnames, files in os.walk(source_folder_path):\n",
    "        for filename in files:\n",
    "            try:\n",
    "                extension = filename.split('.')[-1].lower()\n",
    "                if (extension in accepted_file_list):# and count<5):\n",
    "                    source_filepath  = subdir+os.sep+filename \n",
    "                    dest_filepath = dest_path +subdir.replace(to_replace,'')\n",
    "                    \n",
    "                    filename_txt = filename.replace(filename.split('.')[-1],'txt')\n",
    "                    filename_metatxt = filename.replace(filename.split('.')[-1],'metatxt')\n",
    "                    \n",
    "                    if not os.path.exists(dest_filepath):                        \n",
    "                        os.makedirs(dest_filepath)\n",
    "                    \n",
    "                        \n",
    "                    file_data = parser.from_file(source_filepath)\n",
    "                    text = file_data['content']                    \n",
    "                    metadata = file_data['metadata']\n",
    "                    \n",
    "                    fo = open(dest_filepath+'/'+filename_txt,'w')\n",
    "                    fo.write(str(text))\n",
    "                    fo.close()\n",
    "\n",
    "                    fo = open(dest_filepath+'/'+filename_metatxt,'w')\n",
    "                    fo.write(str(metadata))\n",
    "                    fo.close()\n",
    "                    \n",
    "                    #count += 1\n",
    "                    \n",
    "            except IOError as e:\n",
    "                print(source_filepath)\n",
    "                print(dest_filepath)\n",
    "                \n",
    "                print(\"Unable to write to file. %s\" % e)\n",
    "            except:\n",
    "                print(\"Unexpected error: \", sys.exc_info())\n",
    "\n"
   ]
  },
  {
   "cell_type": "code",
   "execution_count": 5,
   "metadata": {},
   "outputs": [],
   "source": [
    "convert_any_format_to_txt(file_origin_a, file_dest_a,'/media/santhilata/Santhi_backup/Projects/AI_for_Selection/a/')\n",
    "convert_any_format_to_txt(file_origin_websites, file_dest_websites,'/media/santhilata/Santhi_backup/Projects/AI_for_Selection/Websites/')"
   ]
  },
  {
   "cell_type": "code",
   "execution_count": null,
   "metadata": {},
   "outputs": [],
   "source": []
  },
  {
   "cell_type": "code",
   "execution_count": null,
   "metadata": {},
   "outputs": [],
   "source": []
  }
 ],
 "metadata": {
  "kernelspec": {
   "display_name": "Python 3",
   "language": "python",
   "name": "python3"
  },
  "language_info": {
   "codemirror_mode": {
    "name": "ipython",
    "version": 3
   },
   "file_extension": ".py",
   "mimetype": "text/x-python",
   "name": "python",
   "nbconvert_exporter": "python",
   "pygments_lexer": "ipython3",
   "version": "3.7.6"
  }
 },
 "nbformat": 4,
 "nbformat_minor": 4
}
