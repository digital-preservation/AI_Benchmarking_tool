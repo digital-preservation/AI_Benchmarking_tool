{
 "cells": [
  {
   "cell_type": "code",
   "execution_count": 1,
   "metadata": {},
   "outputs": [],
   "source": [
    "import numpy as np\n",
    "import pandas as pd"
   ]
  },
  {
   "cell_type": "code",
   "execution_count": 5,
   "metadata": {},
   "outputs": [],
   "source": [
    "sample_train = pd.read_csv('D:/AI_for_Selection_Google_drive/sample_train.csv.gz', compression='gzip', header=0, sep=',', quotechar='\"', error_bad_lines=False)\n",
    "sample_test =  pd.read_csv('D:/AI_for_Selection_Google_drive/sample_test.csv.gz', compression='gzip', header=0, sep=',', quotechar='\"', error_bad_lines=False)"
   ]
  },
  {
   "cell_type": "code",
   "execution_count": 6,
   "metadata": {},
   "outputs": [
    {
     "data": {
      "text/html": [
       "<div>\n",
       "<style scoped>\n",
       "    .dataframe tbody tr th:only-of-type {\n",
       "        vertical-align: middle;\n",
       "    }\n",
       "\n",
       "    .dataframe tbody tr th {\n",
       "        vertical-align: top;\n",
       "    }\n",
       "\n",
       "    .dataframe thead th {\n",
       "        text-align: right;\n",
       "    }\n",
       "</style>\n",
       "<table border=\"1\" class=\"dataframe\">\n",
       "  <thead>\n",
       "    <tr style=\"text-align: right;\">\n",
       "      <th></th>\n",
       "      <th>documentid</th>\n",
       "      <th>ret_schedule</th>\n",
       "    </tr>\n",
       "  </thead>\n",
       "  <tbody>\n",
       "    <tr>\n",
       "      <th>0</th>\n",
       "      <td>A3072317</td>\n",
       "      <td>24</td>\n",
       "    </tr>\n",
       "    <tr>\n",
       "      <th>1</th>\n",
       "      <td>A4532313</td>\n",
       "      <td>07</td>\n",
       "    </tr>\n",
       "    <tr>\n",
       "      <th>2</th>\n",
       "      <td>A3270475</td>\n",
       "      <td>33</td>\n",
       "    </tr>\n",
       "    <tr>\n",
       "      <th>3</th>\n",
       "      <td>A3183251</td>\n",
       "      <td>02</td>\n",
       "    </tr>\n",
       "    <tr>\n",
       "      <th>4</th>\n",
       "      <td>A2586542</td>\n",
       "      <td>24</td>\n",
       "    </tr>\n",
       "  </tbody>\n",
       "</table>\n",
       "</div>"
      ],
      "text/plain": [
       "  documentid ret_schedule\n",
       "0   A3072317           24\n",
       "1   A4532313           07\n",
       "2   A3270475           33\n",
       "3   A3183251           02\n",
       "4   A2586542           24"
      ]
     },
     "execution_count": 6,
     "metadata": {},
     "output_type": "execute_result"
    }
   ],
   "source": [
    "sample_train.head()"
   ]
  },
  {
   "cell_type": "code",
   "execution_count": 7,
   "metadata": {},
   "outputs": [
    {
     "data": {
      "text/html": [
       "<div>\n",
       "<style scoped>\n",
       "    .dataframe tbody tr th:only-of-type {\n",
       "        vertical-align: middle;\n",
       "    }\n",
       "\n",
       "    .dataframe tbody tr th {\n",
       "        vertical-align: top;\n",
       "    }\n",
       "\n",
       "    .dataframe thead th {\n",
       "        text-align: right;\n",
       "    }\n",
       "</style>\n",
       "<table border=\"1\" class=\"dataframe\">\n",
       "  <thead>\n",
       "    <tr style=\"text-align: right;\">\n",
       "      <th></th>\n",
       "      <th>documentid</th>\n",
       "      <th>ret_schedule</th>\n",
       "    </tr>\n",
       "  </thead>\n",
       "  <tbody>\n",
       "    <tr>\n",
       "      <th>0</th>\n",
       "      <td>A2465127</td>\n",
       "      <td>21</td>\n",
       "    </tr>\n",
       "    <tr>\n",
       "      <th>1</th>\n",
       "      <td>A3412153</td>\n",
       "      <td>02</td>\n",
       "    </tr>\n",
       "    <tr>\n",
       "      <th>2</th>\n",
       "      <td>A1781049</td>\n",
       "      <td>04</td>\n",
       "    </tr>\n",
       "    <tr>\n",
       "      <th>3</th>\n",
       "      <td>A1740983</td>\n",
       "      <td>24b</td>\n",
       "    </tr>\n",
       "    <tr>\n",
       "      <th>4</th>\n",
       "      <td>A2353462</td>\n",
       "      <td>05</td>\n",
       "    </tr>\n",
       "  </tbody>\n",
       "</table>\n",
       "</div>"
      ],
      "text/plain": [
       "  documentid ret_schedule\n",
       "0   A2465127           21\n",
       "1   A3412153           02\n",
       "2   A1781049           04\n",
       "3   A1740983          24b\n",
       "4   A2353462           05"
      ]
     },
     "execution_count": 7,
     "metadata": {},
     "output_type": "execute_result"
    }
   ],
   "source": [
    "sample_test.head()"
   ]
  },
  {
   "cell_type": "code",
   "execution_count": 8,
   "metadata": {},
   "outputs": [],
   "source": [
    "a_docs = pd.read_pickle('D:/AI_for_Selection_Google_drive/a_cleaned_ready_for_NLP.pkl')"
   ]
  },
  {
   "cell_type": "code",
   "execution_count": 13,
   "metadata": {},
   "outputs": [],
   "source": [
    "a_docs['selected'] =  a_docs['ret_schedule'].apply(lambda x: 'YES' if x in(['04', '06','15b','17','21','33']) else 'NO')"
   ]
  },
  {
   "cell_type": "code",
   "execution_count": 14,
   "metadata": {},
   "outputs": [],
   "source": [
    "a_docs['documentname'] = a_docs['documentname'].apply(lambda x: x.split('/')[-1]) "
   ]
  },
  {
   "cell_type": "code",
   "execution_count": 27,
   "metadata": {},
   "outputs": [
    {
     "data": {
      "text/plain": [
       "'20032008fp/Am/Cs/Es/L_5/LNAS/MDR 2_ How to use the online MDR[A905704.3].doc'"
      ]
     },
     "execution_count": 27,
     "metadata": {},
     "output_type": "execute_result"
    }
   ],
   "source": [
    "a_docs.file_path[1]"
   ]
  },
  {
   "cell_type": "code",
   "execution_count": 18,
   "metadata": {},
   "outputs": [],
   "source": [
    "metadata_file = 'D:/AI_for_Selection_Google_drive/objective_files_with_acronyms LATEST.xlsx '\n",
    "metadata_df = pd.read_excel(open(metadata_file,'rb'), sheet_name='objective_files_with_acronyms', nrows=118677)"
   ]
  },
  {
   "cell_type": "code",
   "execution_count": 19,
   "metadata": {},
   "outputs": [
    {
     "data": {
      "text/html": [
       "<div>\n",
       "<style scoped>\n",
       "    .dataframe tbody tr th:only-of-type {\n",
       "        vertical-align: middle;\n",
       "    }\n",
       "\n",
       "    .dataframe tbody tr th {\n",
       "        vertical-align: top;\n",
       "    }\n",
       "\n",
       "    .dataframe thead th {\n",
       "        text-align: right;\n",
       "    }\n",
       "</style>\n",
       "<table border=\"1\" class=\"dataframe\">\n",
       "  <thead>\n",
       "    <tr style=\"text-align: right;\">\n",
       "      <th></th>\n",
       "      <th>Unnamed: 0</th>\n",
       "      <th>documentid</th>\n",
       "      <th>objectivefileid</th>\n",
       "      <th>fileextension</th>\n",
       "      <th>versionnumber</th>\n",
       "      <th>disposal_schedule</th>\n",
       "      <th>repository</th>\n",
       "      <th>datelastmodified</th>\n",
       "      <th>parent11</th>\n",
       "      <th>parent10</th>\n",
       "      <th>...</th>\n",
       "      <th>trim_10</th>\n",
       "      <th>trim_9</th>\n",
       "      <th>trim_8</th>\n",
       "      <th>trim_7</th>\n",
       "      <th>trim_6</th>\n",
       "      <th>trim_5</th>\n",
       "      <th>trim_4</th>\n",
       "      <th>trim_3</th>\n",
       "      <th>trim_2</th>\n",
       "      <th>trim_1</th>\n",
       "    </tr>\n",
       "  </thead>\n",
       "  <tbody>\n",
       "    <tr>\n",
       "      <th>0</th>\n",
       "      <td>0</td>\n",
       "      <td>A3109716</td>\n",
       "      <td>qA35736</td>\n",
       "      <td>xls</td>\n",
       "      <td>2</td>\n",
       "      <td>24 Projects - Full Projects (Close file when P...</td>\n",
       "      <td>Strategic Projects</td>\n",
       "      <td>00:42:31</td>\n",
       "      <td>Procurement, Project Delivery and Contract Man...</td>\n",
       "      <td>Project Delivery</td>\n",
       "      <td>...</td>\n",
       "      <td>PD</td>\n",
       "      <td>PC_1</td>\n",
       "      <td>20YRaCS</td>\n",
       "      <td>GE_1</td>\n",
       "      <td>2012RTR</td>\n",
       "      <td>RTRS2012DS</td>\n",
       "      <td>no name</td>\n",
       "      <td>no name</td>\n",
       "      <td>no name</td>\n",
       "      <td>no name</td>\n",
       "    </tr>\n",
       "    <tr>\n",
       "      <th>1</th>\n",
       "      <td>1</td>\n",
       "      <td>A3133123</td>\n",
       "      <td>qA35736</td>\n",
       "      <td>xls</td>\n",
       "      <td>1</td>\n",
       "      <td>24 Projects - Full Projects (Close file when P...</td>\n",
       "      <td>Strategic Projects</td>\n",
       "      <td>00:55:08</td>\n",
       "      <td>Procurement, Project Delivery and Contract Man...</td>\n",
       "      <td>Project Delivery</td>\n",
       "      <td>...</td>\n",
       "      <td>PD</td>\n",
       "      <td>PC_1</td>\n",
       "      <td>20YRaCS</td>\n",
       "      <td>GE_1</td>\n",
       "      <td>2012RTR</td>\n",
       "      <td>RTRS2012DS</td>\n",
       "      <td>no name</td>\n",
       "      <td>no name</td>\n",
       "      <td>no name</td>\n",
       "      <td>no name</td>\n",
       "    </tr>\n",
       "    <tr>\n",
       "      <th>2</th>\n",
       "      <td>2</td>\n",
       "      <td>A3097046</td>\n",
       "      <td>qA35736</td>\n",
       "      <td>xls</td>\n",
       "      <td>4</td>\n",
       "      <td>24 Projects - Full Projects (Close file when P...</td>\n",
       "      <td>Strategic Projects</td>\n",
       "      <td>00:54:09</td>\n",
       "      <td>Procurement, Project Delivery and Contract Man...</td>\n",
       "      <td>Project Delivery</td>\n",
       "      <td>...</td>\n",
       "      <td>PD</td>\n",
       "      <td>PC_1</td>\n",
       "      <td>20YRaCS</td>\n",
       "      <td>GE_1</td>\n",
       "      <td>2012RTR</td>\n",
       "      <td>RTRS2012DS</td>\n",
       "      <td>no name</td>\n",
       "      <td>no name</td>\n",
       "      <td>no name</td>\n",
       "      <td>no name</td>\n",
       "    </tr>\n",
       "    <tr>\n",
       "      <th>3</th>\n",
       "      <td>3</td>\n",
       "      <td>A3113792</td>\n",
       "      <td>qA35736</td>\n",
       "      <td>xls</td>\n",
       "      <td>2</td>\n",
       "      <td>24 Projects - Full Projects (Close file when P...</td>\n",
       "      <td>Strategic Projects</td>\n",
       "      <td>00:52:54</td>\n",
       "      <td>Procurement, Project Delivery and Contract Man...</td>\n",
       "      <td>Project Delivery</td>\n",
       "      <td>...</td>\n",
       "      <td>PD</td>\n",
       "      <td>PC_1</td>\n",
       "      <td>20YRaCS</td>\n",
       "      <td>GE_1</td>\n",
       "      <td>2012RTR</td>\n",
       "      <td>RTRS2012DS</td>\n",
       "      <td>no name</td>\n",
       "      <td>no name</td>\n",
       "      <td>no name</td>\n",
       "      <td>no name</td>\n",
       "    </tr>\n",
       "    <tr>\n",
       "      <th>4</th>\n",
       "      <td>4</td>\n",
       "      <td>A3115138</td>\n",
       "      <td>qA35736</td>\n",
       "      <td>xls</td>\n",
       "      <td>2</td>\n",
       "      <td>24 Projects - Full Projects (Close file when P...</td>\n",
       "      <td>Strategic Projects</td>\n",
       "      <td>00:40:05</td>\n",
       "      <td>Procurement, Project Delivery and Contract Man...</td>\n",
       "      <td>Project Delivery</td>\n",
       "      <td>...</td>\n",
       "      <td>PD</td>\n",
       "      <td>PC_1</td>\n",
       "      <td>20YRaCS</td>\n",
       "      <td>GE_1</td>\n",
       "      <td>2012RTR</td>\n",
       "      <td>RTRS2012DS</td>\n",
       "      <td>no name</td>\n",
       "      <td>no name</td>\n",
       "      <td>no name</td>\n",
       "      <td>no name</td>\n",
       "    </tr>\n",
       "  </tbody>\n",
       "</table>\n",
       "<p>5 rows × 37 columns</p>\n",
       "</div>"
      ],
      "text/plain": [
       "   Unnamed: 0 documentid objectivefileid fileextension  versionnumber  \\\n",
       "0           0   A3109716         qA35736           xls              2   \n",
       "1           1   A3133123         qA35736           xls              1   \n",
       "2           2   A3097046         qA35736           xls              4   \n",
       "3           3   A3113792         qA35736           xls              2   \n",
       "4           4   A3115138         qA35736           xls              2   \n",
       "\n",
       "                                   disposal_schedule          repository  \\\n",
       "0  24 Projects - Full Projects (Close file when P...  Strategic Projects   \n",
       "1  24 Projects - Full Projects (Close file when P...  Strategic Projects   \n",
       "2  24 Projects - Full Projects (Close file when P...  Strategic Projects   \n",
       "3  24 Projects - Full Projects (Close file when P...  Strategic Projects   \n",
       "4  24 Projects - Full Projects (Close file when P...  Strategic Projects   \n",
       "\n",
       "  datelastmodified                                           parent11  \\\n",
       "0         00:42:31  Procurement, Project Delivery and Contract Man...   \n",
       "1         00:55:08  Procurement, Project Delivery and Contract Man...   \n",
       "2         00:54:09  Procurement, Project Delivery and Contract Man...   \n",
       "3         00:52:54  Procurement, Project Delivery and Contract Man...   \n",
       "4         00:40:05  Procurement, Project Delivery and Contract Man...   \n",
       "\n",
       "           parent10  ... trim_10 trim_9   trim_8 trim_7   trim_6      trim_5  \\\n",
       "0  Project Delivery  ...      PD   PC_1  20YRaCS   GE_1  2012RTR  RTRS2012DS   \n",
       "1  Project Delivery  ...      PD   PC_1  20YRaCS   GE_1  2012RTR  RTRS2012DS   \n",
       "2  Project Delivery  ...      PD   PC_1  20YRaCS   GE_1  2012RTR  RTRS2012DS   \n",
       "3  Project Delivery  ...      PD   PC_1  20YRaCS   GE_1  2012RTR  RTRS2012DS   \n",
       "4  Project Delivery  ...      PD   PC_1  20YRaCS   GE_1  2012RTR  RTRS2012DS   \n",
       "\n",
       "    trim_4   trim_3   trim_2   trim_1  \n",
       "0  no name  no name  no name  no name  \n",
       "1  no name  no name  no name  no name  \n",
       "2  no name  no name  no name  no name  \n",
       "3  no name  no name  no name  no name  \n",
       "4  no name  no name  no name  no name  \n",
       "\n",
       "[5 rows x 37 columns]"
      ]
     },
     "execution_count": 19,
     "metadata": {},
     "output_type": "execute_result"
    }
   ],
   "source": [
    "metadata_df.head()"
   ]
  },
  {
   "cell_type": "code",
   "execution_count": 20,
   "metadata": {},
   "outputs": [],
   "source": [
    "metadata_df = metadata_df.drop(['Unnamed: 0','copyflatlines',\n",
    "       'To the left there is the full data from the EDRMS.\\nTo the right is the data with the acronyms'], axis = 1)"
   ]
  },
  {
   "cell_type": "code",
   "execution_count": 21,
   "metadata": {},
   "outputs": [],
   "source": [
    "metadata_df = metadata_df.drop([ 'objectivefileid','versionnumber','objective3', 'objective2',\n",
    "       'objective1'], axis = 1)"
   ]
  },
  {
   "cell_type": "code",
   "execution_count": 22,
   "metadata": {},
   "outputs": [
    {
     "data": {
      "text/plain": [
       "Index(['documentid', 'fileextension', 'disposal_schedule', 'repository',\n",
       "       'datelastmodified', 'parent11', 'parent10', 'parent9', 'parent8',\n",
       "       'parent7', 'parent6', 'parent5', 'parent4', 'parent3', 'parent2',\n",
       "       'parent1', 'originalname', 'documentname', 'trim_11', 'trim_10',\n",
       "       'trim_9', 'trim_8', 'trim_7', 'trim_6', 'trim_5', 'trim_4', 'trim_3',\n",
       "       'trim_2', 'trim_1'],\n",
       "      dtype='object')"
      ]
     },
     "execution_count": 22,
     "metadata": {},
     "output_type": "execute_result"
    }
   ],
   "source": [
    "metadata_df.columns"
   ]
  },
  {
   "cell_type": "code",
   "execution_count": 23,
   "metadata": {},
   "outputs": [],
   "source": [
    "def set_filepath(row):\n",
    "    file_path = ''\n",
    "    file_path1 = ''\n",
    "    #file_path2 = ''\n",
    "    for i in range(11,0,-1):\n",
    "        trim = 'trim_'+str(i)\n",
    "        \n",
    "        if (row[trim] != 'no name'):\n",
    "            file_path = file_path+str(row[trim])+'/'\n",
    "        else:\n",
    "            break\n",
    "            \n",
    "    #print(str(row['documentname']))\n",
    "    file_path1 = file_path+str(row['documentname'])+'['+str(row['originalname'])+']'+'.'+str(row['fileextension'])\n",
    "    #file_path2 = file_path+str(row['documentname'])+'.'+str(row['fileextension'])+'['+str(row['originalname'])+']'       \n",
    "\n",
    "        \n",
    "    #return [file_path1, file_path2]\n",
    "    return file_path1\n",
    "\n",
    "metadata_df['file_path'] = metadata_df.apply(lambda row: set_filepath(row), axis=1)"
   ]
  },
  {
   "cell_type": "code",
   "execution_count": 25,
   "metadata": {},
   "outputs": [
    {
     "data": {
      "text/plain": [
       "Index(['documentid', 'fileextension', 'disposal_schedule', 'repository',\n",
       "       'datelastmodified', 'parent11', 'parent10', 'parent9', 'parent8',\n",
       "       'parent7', 'parent6', 'parent5', 'parent4', 'parent3', 'parent2',\n",
       "       'parent1', 'originalname', 'documentname', 'trim_11', 'trim_10',\n",
       "       'trim_9', 'trim_8', 'trim_7', 'trim_6', 'trim_5', 'trim_4', 'trim_3',\n",
       "       'trim_2', 'trim_1', 'file_path'],\n",
       "      dtype='object')"
      ]
     },
     "execution_count": 25,
     "metadata": {},
     "output_type": "execute_result"
    }
   ],
   "source": [
    "metadata_df.columns"
   ]
  },
  {
   "cell_type": "code",
   "execution_count": 26,
   "metadata": {},
   "outputs": [
    {
     "data": {
      "text/plain": [
       "'PPDaCM/PD/PC_1/20YRaCS/GE_1/2012RTR/RTRS2012DS/Food Standards Agency RTR - amended 30 Oct 12[A3133123.1].xls'"
      ]
     },
     "execution_count": 26,
     "metadata": {},
     "output_type": "execute_result"
    }
   ],
   "source": [
    "metadata_df.file_path[1]"
   ]
  },
  {
   "cell_type": "code",
   "execution_count": null,
   "metadata": {},
   "outputs": [],
   "source": [
    "metadata_df['ret_schedule']= metadata_df['disposal_schedule'].apply(lambda x: x.split()[0] )\n",
    "metadata_df['selected'] =  metadata_df['ret_schedule'].apply(lambda x: 'YES' if x in(['04', '06','15b','17','21','33']) else 'NO')"
   ]
  },
  {
   "cell_type": "code",
   "execution_count": 28,
   "metadata": {},
   "outputs": [],
   "source": [
    "metadata_reduced_df = metadata_df[['documentid','file_path', ]]"
   ]
  },
  {
   "cell_type": "code",
   "execution_count": 30,
   "metadata": {},
   "outputs": [
    {
     "data": {
      "text/plain": [
       "Index(['documentid', 'file_path'], dtype='object')"
      ]
     },
     "execution_count": 30,
     "metadata": {},
     "output_type": "execute_result"
    }
   ],
   "source": [
    "metadata_reduced_df.columns"
   ]
  },
  {
   "cell_type": "code",
   "execution_count": 31,
   "metadata": {},
   "outputs": [],
   "source": [
    "merged_df = pd.merge(a_docs,metadata_reduced_df, on='file_path')"
   ]
  },
  {
   "cell_type": "code",
   "execution_count": 33,
   "metadata": {},
   "outputs": [
    {
     "data": {
      "text/plain": [
       "93824"
      ]
     },
     "execution_count": 33,
     "metadata": {},
     "output_type": "execute_result"
    }
   ],
   "source": [
    "len(merged_df)"
   ]
  },
  {
   "cell_type": "code",
   "execution_count": 34,
   "metadata": {},
   "outputs": [
    {
     "data": {
      "text/plain": [
       "Index(['documentname', 'tokens', 'abs_filepath', 'fileextension',\n",
       "       'disposal_schedule', 'repository', 'file_path', 'ret_schedule',\n",
       "       'file_size', 'selected', 'documentid'],\n",
       "      dtype='object')"
      ]
     },
     "execution_count": 34,
     "metadata": {},
     "output_type": "execute_result"
    }
   ],
   "source": [
    "merged_df.columns"
   ]
  },
  {
   "cell_type": "code",
   "execution_count": 37,
   "metadata": {},
   "outputs": [],
   "source": [
    "\n",
    "selected_train = merged_df[merged_df.documentid.isin( list(sample_train.documentid))]"
   ]
  },
  {
   "cell_type": "code",
   "execution_count": 41,
   "metadata": {},
   "outputs": [],
   "source": [
    "selected_test = merged_df[merged_df.documentid.isin( list(sample_test.documentid))]"
   ]
  },
  {
   "cell_type": "code",
   "execution_count": 39,
   "metadata": {},
   "outputs": [
    {
     "data": {
      "text/plain": [
       "94941"
      ]
     },
     "execution_count": 39,
     "metadata": {},
     "output_type": "execute_result"
    }
   ],
   "source": [
    "len(sample_train)"
   ]
  },
  {
   "cell_type": "code",
   "execution_count": 40,
   "metadata": {},
   "outputs": [
    {
     "data": {
      "text/plain": [
       "23736"
      ]
     },
     "execution_count": 40,
     "metadata": {},
     "output_type": "execute_result"
    }
   ],
   "source": [
    "len(sample_test)"
   ]
  },
  {
   "cell_type": "code",
   "execution_count": 42,
   "metadata": {},
   "outputs": [
    {
     "data": {
      "text/plain": [
       "18767"
      ]
     },
     "execution_count": 42,
     "metadata": {},
     "output_type": "execute_result"
    }
   ],
   "source": [
    "len(selected_test)"
   ]
  },
  {
   "cell_type": "code",
   "execution_count": 45,
   "metadata": {},
   "outputs": [],
   "source": [
    "X = merged_df.copy()"
   ]
  },
  {
   "cell_type": "markdown",
   "metadata": {},
   "source": [
    "# Models developed with the selected data"
   ]
  },
  {
   "cell_type": "markdown",
   "metadata": {},
   "source": [
    "# Naive Bayes"
   ]
  },
  {
   "cell_type": "code",
   "execution_count": 47,
   "metadata": {},
   "outputs": [],
   "source": [
    "from sklearn.model_selection import train_test_split\n"
   ]
  },
  {
   "cell_type": "code",
   "execution_count": 43,
   "metadata": {},
   "outputs": [],
   "source": [
    "from sklearn.naive_bayes import MultinomialNB\n",
    "from sklearn.pipeline import Pipeline\n",
    "from sklearn.feature_extraction.text import TfidfTransformer\n",
    "from sklearn.metrics import classification_report\n",
    "from sklearn.feature_extraction.text import CountVectorizer, TfidfVectorizer\n",
    "from sklearn.metrics import accuracy_score, confusion_matrix\n",
    "\n",
    "import matplotlib.pyplot as plt"
   ]
  },
  {
   "cell_type": "code",
   "execution_count": 48,
   "metadata": {},
   "outputs": [],
   "source": []
  },
  {
   "cell_type": "markdown",
   "metadata": {},
   "source": [
    "**Naive_bayes multi class labelled data**"
   ]
  },
  {
   "cell_type": "code",
   "execution_count": 54,
   "metadata": {},
   "outputs": [
    {
     "name": "stdout",
     "output_type": "stream",
     "text": [
      "Wall time: 0 ns\n",
      "accuracy 0.5839505514999733\n",
      "              precision    recall  f1-score   support\n",
      "\n",
      "          02       0.43      0.90      0.58      2649\n",
      "          03       0.91      0.35      0.50      1005\n",
      "          04       0.95      0.76      0.84      1608\n",
      "          05       0.96      0.48      0.64      1794\n",
      "          06       0.00      0.00      0.00        12\n",
      "          07       1.00      0.01      0.02       528\n",
      "          10       0.00      0.00      0.00       184\n",
      "          11       1.00      0.11      0.20       545\n",
      "          16       1.00      0.01      0.03       312\n",
      "          20       1.00      0.15      0.26       561\n",
      "          21       0.50      0.00      0.00       534\n",
      "          23       0.99      0.38      0.55      1456\n",
      "          24       0.48      0.98      0.65      3726\n",
      "         24b       1.00      0.01      0.03       294\n",
      "          25       0.00      0.00      0.00        42\n",
      "          27       0.94      0.12      0.21       524\n",
      "          28       0.99      0.19      0.32       393\n",
      "          32       0.00      0.00      0.00       458\n",
      "          33       0.74      0.77      0.76      2142\n",
      "\n",
      "    accuracy                           0.58     18767\n",
      "   macro avg       0.68      0.27      0.29     18767\n",
      "weighted avg       0.72      0.58      0.53     18767\n",
      "\n"
     ]
    },
    {
     "name": "stderr",
     "output_type": "stream",
     "text": [
      "C:\\Users\\santh\\Anaconda3\\envs\\tf37\\lib\\site-packages\\sklearn\\metrics\\_classification.py:1272: UndefinedMetricWarning: Precision and F-score are ill-defined and being set to 0.0 in labels with no predicted samples. Use `zero_division` parameter to control this behavior.\n",
      "  _warn_prf(average, modifier, msg_start, len(result))\n"
     ]
    }
   ],
   "source": [
    "X_train = selected_train.tokens\n",
    "y_train = selected_train.ret_schedule\n",
    "X_test = selected_test.tokens\n",
    "y_test = selected_test.ret_schedule\n",
    "\n",
    "\n",
    "nb_multi = Pipeline([('vect', CountVectorizer()),\n",
    "               ('tfidf', TfidfTransformer()),\n",
    "               ('clf', MultinomialNB()),\n",
    "              ])\n",
    "nb_multi.fit(X_train, y_train)\n",
    "%time\n",
    "\n",
    "y_pred = nb_multi.predict(X_test)\n",
    "print('accuracy %s' % accuracy_score(y_pred,y_test))\n",
    "print(classification_report(y_test, y_pred))\n"
   ]
  },
  {
   "cell_type": "markdown",
   "metadata": {},
   "source": [
    "**Naive Bayes binary class labelled data**"
   ]
  },
  {
   "cell_type": "code",
   "execution_count": 55,
   "metadata": {},
   "outputs": [
    {
     "name": "stdout",
     "output_type": "stream",
     "text": [
      "Wall time: 0 ns\n",
      "accuracy 0.8374806841796771\n",
      "              precision    recall  f1-score   support\n",
      "\n",
      "          NO       0.83      1.00      0.90     14471\n",
      "         YES       0.98      0.30      0.45      4296\n",
      "\n",
      "    accuracy                           0.84     18767\n",
      "   macro avg       0.90      0.65      0.68     18767\n",
      "weighted avg       0.86      0.84      0.80     18767\n",
      "\n"
     ]
    }
   ],
   "source": [
    "X_train = selected_train.tokens\n",
    "y_train = selected_train.selected\n",
    "X_test = selected_test.tokens\n",
    "y_test = selected_test.selected\n",
    "\n",
    "nb_bin = Pipeline([('vect', CountVectorizer()),\n",
    "               ('tfidf', TfidfTransformer()),\n",
    "               ('clf', MultinomialNB()),\n",
    "              ])\n",
    "nb_bin.fit(X_train, y_train)\n",
    "%time\n",
    "\n",
    "y_pred = nb_bin.predict(X_test)\n",
    "print('accuracy %s' % accuracy_score(y_pred,y_test))\n",
    "print(classification_report(y_test, y_pred))\n"
   ]
  },
  {
   "cell_type": "markdown",
   "metadata": {},
   "source": [
    "# Logistic Regression \n",
    "**Machine Multi class labelled data**"
   ]
  },
  {
   "cell_type": "code",
   "execution_count": 56,
   "metadata": {},
   "outputs": [
    {
     "name": "stderr",
     "output_type": "stream",
     "text": [
      "C:\\Users\\santh\\Anaconda3\\envs\\tf37\\lib\\site-packages\\sklearn\\linear_model\\_logistic.py:940: ConvergenceWarning: lbfgs failed to converge (status=1):\n",
      "STOP: TOTAL NO. of ITERATIONS REACHED LIMIT.\n",
      "\n",
      "Increase the number of iterations (max_iter) or scale the data as shown in:\n",
      "    https://scikit-learn.org/stable/modules/preprocessing.html\n",
      "Please also refer to the documentation for alternative solver options:\n",
      "    https://scikit-learn.org/stable/modules/linear_model.html#logistic-regression\n",
      "  extra_warning_msg=_LOGISTIC_SOLVER_CONVERGENCE_MSG)\n"
     ]
    },
    {
     "name": "stdout",
     "output_type": "stream",
     "text": [
      "Wall time: 0 ns\n",
      "accuracy 0.8949219374433847\n",
      "              precision    recall  f1-score   support\n",
      "\n",
      "          02       0.87      0.85      0.86      2649\n",
      "          03       0.84      0.87      0.85      1005\n",
      "          04       0.96      0.96      0.96      1608\n",
      "          05       0.89      0.91      0.90      1794\n",
      "          06       0.83      0.83      0.83        12\n",
      "          07       0.85      0.85      0.85       528\n",
      "          10       0.80      0.72      0.76       184\n",
      "          11       0.60      0.91      0.72       545\n",
      "          16       1.00      0.98      0.99       312\n",
      "          20       0.90      0.84      0.87       561\n",
      "          21       0.88      0.81      0.84       534\n",
      "          23       0.94      0.94      0.94      1456\n",
      "          24       0.95      0.94      0.95      3726\n",
      "         24b       0.96      0.98      0.97       294\n",
      "          25       0.87      0.64      0.74        42\n",
      "          27       0.89      0.85      0.87       524\n",
      "          28       0.88      0.79      0.84       393\n",
      "          32       0.82      0.74      0.78       458\n",
      "          33       0.91      0.90      0.91      2142\n",
      "\n",
      "    accuracy                           0.89     18767\n",
      "   macro avg       0.88      0.86      0.86     18767\n",
      "weighted avg       0.90      0.89      0.90     18767\n",
      "\n"
     ]
    }
   ],
   "source": [
    "from sklearn.linear_model import LogisticRegression\n",
    "\n",
    "X_train = selected_train.tokens\n",
    "y_train = selected_train.ret_schedule\n",
    "X_test = selected_test.tokens\n",
    "y_test = selected_test.ret_schedule\n",
    "\n",
    "lr_multi = Pipeline([('vect', CountVectorizer()),\n",
    "                ('tfidf', TfidfTransformer()),\n",
    "                ('clf', LogisticRegression(n_jobs=1, C=1e5)),\n",
    "               ])\n",
    "lr_multi.fit(X_train, y_train)\n",
    "\n",
    "%time\n",
    "\n",
    "y_pred = lr_multi.predict(X_test)\n",
    "\n",
    "print('accuracy %s' % accuracy_score(y_pred, y_test))\n",
    "print(classification_report(y_test, y_pred))"
   ]
  },
  {
   "cell_type": "code",
   "execution_count": 57,
   "metadata": {},
   "outputs": [
    {
     "name": "stdout",
     "output_type": "stream",
     "text": [
      "       02   03    04    05  06   07   10   11   16   20   21    23    24  24b  25   27   28   32    33\n",
      "02   2247  138    20    26   0   17    4   44    0    9   13    14    20    0   0    7   10   17    63\n",
      "03     89  874    18    13   0    0    0    0    0    1    0     3     2    0   0    0    0    4     1\n",
      "04     15   18  1536     0   0    0    0    5    0    0    2     1     5    0   0    0    0   22     4\n",
      "05     32    0     0  1640   2   14    2   24    0    5   10     4    26    1   0   13    2    8    11\n",
      "06      0    0     0     0  10    0    0    1    0    0    0     0     0    0   0    1    0    0     0\n",
      "07     13    0     0    18   0  447    6    8    0    3    6     4     6    1   1    2    3    1     9\n",
      "10      4    0     0    11   0    3  132    9    0    0    0     3    13    0   0    2    1    1     5\n",
      "11      2    2     0     7   0    2    1  498    0    2    0    10     8    0   0    1    7    0     5\n",
      "16      1    0     0     1   0    0    0    1  305    0    0     2     1    0   0    0    0    0     1\n",
      "20     12    1     0    11   0    2    5   11    0  470    1     4     9    0   0    1    2   14    18\n",
      "21     34    0     3     8   0    5    0    4    0    0  432    19    10    0   1    1    0    0    17\n",
      "23     11    0     0     9   0   15    1   16    0    0   16  1370     8    0   0    0    3    0     7\n",
      "24     25    4     2    44   0    2    8   64    0    3    2    18  3497    5   0   22    2    3    25\n",
      "24b     0    0     0     2   0    1    0    0    0    0    0     0     1  287   0    1    0    0     2\n",
      "25      4    0     0     0   0    2    0    5    0    1    0     0     1    0  27    0    1    0     1\n",
      "27      6    2     0    12   0    2    3   16    0    3    0     3    24    1   0  444    1    2     5\n",
      "28      9    0     0     6   0    4    1   53    0    1    0     2     3    0   0    0  312    0     2\n",
      "32     26    3    19    16   0    2    1    9    0   15    2     2    13    0   0    1    0  340     9\n",
      "33     55    2     1    18   0    5    0   68    0   10    8     5    23    3   2    1   10    4  1927\n"
     ]
    }
   ],
   "source": [
    "cm =confusion_matrix(y_test, y_pred)\n",
    "pd.set_option('display.max_colwidth', None)\n",
    "labels = np.unique(y_test)\n",
    "df = pd.DataFrame(cm, index=labels, columns=labels)\n",
    "print(df.to_string())"
   ]
  },
  {
   "cell_type": "markdown",
   "metadata": {},
   "source": [
    "**Logistic Regression Machine Binary class labelled data**"
   ]
  },
  {
   "cell_type": "code",
   "execution_count": 58,
   "metadata": {},
   "outputs": [
    {
     "name": "stderr",
     "output_type": "stream",
     "text": [
      "C:\\Users\\santh\\Anaconda3\\envs\\tf37\\lib\\site-packages\\sklearn\\linear_model\\_logistic.py:940: ConvergenceWarning: lbfgs failed to converge (status=1):\n",
      "STOP: TOTAL NO. of ITERATIONS REACHED LIMIT.\n",
      "\n",
      "Increase the number of iterations (max_iter) or scale the data as shown in:\n",
      "    https://scikit-learn.org/stable/modules/preprocessing.html\n",
      "Please also refer to the documentation for alternative solver options:\n",
      "    https://scikit-learn.org/stable/modules/linear_model.html#logistic-regression\n",
      "  extra_warning_msg=_LOGISTIC_SOLVER_CONVERGENCE_MSG)\n"
     ]
    },
    {
     "name": "stdout",
     "output_type": "stream",
     "text": [
      "Wall time: 0 ns\n",
      "accuracy 0.960569084030479\n",
      "              precision    recall  f1-score   support\n",
      "\n",
      "          NO       0.97      0.98      0.97     14471\n",
      "         YES       0.93      0.90      0.91      4296\n",
      "\n",
      "    accuracy                           0.96     18767\n",
      "   macro avg       0.95      0.94      0.94     18767\n",
      "weighted avg       0.96      0.96      0.96     18767\n",
      "\n"
     ]
    }
   ],
   "source": [
    "X_train = selected_train.tokens\n",
    "y_train = selected_train.selected\n",
    "X_test = selected_test.tokens\n",
    "y_test = selected_test.selected\n",
    "\n",
    "lr_bin = Pipeline([('vect', CountVectorizer()),\n",
    "                ('tfidf', TfidfTransformer()),\n",
    "                ('clf', LogisticRegression(n_jobs=1, C=1e5)),\n",
    "               ])\n",
    "lr_bin.fit(X_train, y_train)\n",
    "\n",
    "%time\n",
    "\n",
    "y_pred = lr_bin.predict(X_test)\n",
    "\n",
    "print('accuracy %s' % accuracy_score(y_pred, y_test))\n",
    "print(classification_report(y_test, y_pred))"
   ]
  },
  {
   "cell_type": "code",
   "execution_count": 59,
   "metadata": {},
   "outputs": [
    {
     "name": "stdout",
     "output_type": "stream",
     "text": [
      "        NO   YES\n",
      "NO   14167   304\n",
      "YES    436  3860\n"
     ]
    }
   ],
   "source": [
    "cm =confusion_matrix(y_test, y_pred)\n",
    "pd.set_option('display.max_colwidth', None)\n",
    "labels = np.unique(y_test)\n",
    "df = pd.DataFrame(cm, index=labels, columns=labels)\n",
    "print(df.to_string())"
   ]
  },
  {
   "cell_type": "code",
   "execution_count": null,
   "metadata": {},
   "outputs": [],
   "source": []
  }
 ],
 "metadata": {
  "kernelspec": {
   "display_name": "Python 3",
   "language": "python",
   "name": "python3"
  },
  "language_info": {
   "codemirror_mode": {
    "name": "ipython",
    "version": 3
   },
   "file_extension": ".py",
   "mimetype": "text/x-python",
   "name": "python",
   "nbconvert_exporter": "python",
   "pygments_lexer": "ipython3",
   "version": "3.7.7"
  }
 },
 "nbformat": 4,
 "nbformat_minor": 4
}
